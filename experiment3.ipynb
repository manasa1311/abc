{
  "nbformat": 4,
  "nbformat_minor": 0,
  "metadata": {
    "colab": {
      "provenance": [],
      "authorship_tag": "ABX9TyPBZdkJCfZtrcKKPla8SKal",
      "include_colab_link": true
    },
    "kernelspec": {
      "name": "python3",
      "display_name": "Python 3"
    },
    "language_info": {
      "name": "python"
    }
  },
  "cells": [
    {
      "cell_type": "markdown",
      "metadata": {
        "id": "view-in-github",
        "colab_type": "text"
      },
      "source": [
        "<a href=\"https://colab.research.google.com/github/manasa1311/abc/blob/main/experiment3.ipynb\" target=\"_parent\"><img src=\"https://colab.research.google.com/assets/colab-badge.svg\" alt=\"Open In Colab\"/></a>"
      ]
    },
    {
      "cell_type": "code",
      "execution_count": 1,
      "metadata": {
        "colab": {
          "base_uri": "https://localhost:8080/"
        },
        "id": "B5uyxqmdK3f1",
        "outputId": "5b82663c-6b25-46d1-a6f5-dfb04fbb577d"
      },
      "outputs": [
        {
          "output_type": "stream",
          "name": "stdout",
          "text": [
            "Pearson's correlation Coefficient: 0.9999999999999998\n"
          ]
        }
      ],
      "source": [
        "import numpy as np\n",
        "def pearson_correlation(x,y):\n",
        "  mean_x = np.mean(x)\n",
        "  mean_y = np.mean(y)\n",
        "  covariance = np.sum((x-mean_x)*(y-mean_y))\n",
        "  std_dev_x = np.sqrt(np.sum((x-mean_x)**2))\n",
        "  std_dev_y = np.sqrt(np.sum((y-mean_y)**2))\n",
        "  correlation = covariance/(std_dev_x*std_dev_y)\n",
        "  return correlation\n",
        "x = np.array([1,2,3,4,5])\n",
        "y = np.array([2,3,4,5,6])\n",
        "print(\"Pearson's correlation Coefficient:\",pearson_correlation(x,y))"
      ]
    },
    {
      "cell_type": "code",
      "source": [
        "from sklearn.metrics.pairwise import cosine_similarity\n",
        "vec1 = np.array([1,2,3])\n",
        "vec2 = np.array([4,5,6])\n",
        "cosine_sim = cosine_similarity(vec1.reshape(1,-1),vec2.reshape(1,-1))\n",
        "print(\"Cosine Similarity:\",cosine_sim[0][0])"
      ],
      "metadata": {
        "colab": {
          "base_uri": "https://localhost:8080/"
        },
        "id": "aYzS6gRLMZSP",
        "outputId": "7ccf17b2-a398-4795-d7d6-5c15bd54e6a9"
      },
      "execution_count": 2,
      "outputs": [
        {
          "output_type": "stream",
          "name": "stdout",
          "text": [
            "Cosine Similarity: 0.9746318461970762\n"
          ]
        }
      ]
    },
    {
      "cell_type": "code",
      "source": [
        "def jaccard_similarity(set1,set2):\n",
        "  intersection = len(set1.intersection(set2))\n",
        "  union = len(set1.union(set2))\n",
        "  return intersection/union\n",
        "set1 = set([1,2,3])\n",
        "set2 = set([2,3,4])\n",
        "print(\"Jaccard Similarity:\",jaccard_similarity(set1,set2))"
      ],
      "metadata": {
        "colab": {
          "base_uri": "https://localhost:8080/"
        },
        "id": "9au-PZnlNCL8",
        "outputId": "1615fbe5-a941-4f4d-f297-3acaa8c35078"
      },
      "execution_count": 4,
      "outputs": [
        {
          "output_type": "stream",
          "name": "stdout",
          "text": [
            "Jaccard Similarity: 0.5\n"
          ]
        }
      ]
    },
    {
      "cell_type": "code",
      "source": [
        "def euclidean_distance(x,y):\n",
        "  return np.sqrt(np.sum((x-y)**2))\n",
        "point1 = np.array([1,2,3])\n",
        "point2 = np.array([4,5,6])\n",
        "print(\"Euclidean Distance:\",euclidean_distance(point1,point2))"
      ],
      "metadata": {
        "colab": {
          "base_uri": "https://localhost:8080/"
        },
        "id": "xtnDucmdOEyH",
        "outputId": "765e3ef2-c7c8-4460-fade-8ef2c9b7102d"
      },
      "execution_count": 5,
      "outputs": [
        {
          "output_type": "stream",
          "name": "stdout",
          "text": [
            "Euclidean Distance: 5.196152422706632\n"
          ]
        }
      ]
    },
    {
      "cell_type": "code",
      "source": [
        "def manhattan_distance(x,y):\n",
        "  return np.sum(np.abs(x-y))\n",
        "point1 = np.array([1,2,3])\n",
        "point2 = np.array([4,5,6])\n",
        "print(\"Manhattan Distance:\",manhattan_distance(point1,point2))"
      ],
      "metadata": {
        "colab": {
          "base_uri": "https://localhost:8080/"
        },
        "id": "G2A0ai5lOlDv",
        "outputId": "4e8ccc31-f6e9-44dc-99c8-2e0a35142cdf"
      },
      "execution_count": 6,
      "outputs": [
        {
          "output_type": "stream",
          "name": "stdout",
          "text": [
            "Manhattan Distance: 9\n"
          ]
        }
      ]
    }
  ]
}